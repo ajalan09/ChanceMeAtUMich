{
 "cells": [
  {
   "cell_type": "markdown",
   "metadata": {},
   "source": [
    "Importing Libraries"
   ]
  },
  {
   "cell_type": "code",
   "execution_count": 1,
   "metadata": {},
   "outputs": [],
   "source": [
    "import pandas as pd\n",
    "import numpy as np\n",
    "import matplotlib.pyplot as plt\n",
    "import seaborn as sns\n",
    "%matplotlib inline"
   ]
  },
  {
   "cell_type": "markdown",
   "metadata": {},
   "source": [
    "Importing Data"
   ]
  },
  {
   "cell_type": "code",
   "execution_count": 2,
   "metadata": {},
   "outputs": [],
   "source": [
    "df = pd.read_csv (r'/Users/amanjalan/Downloads/UMichMLTrial(2).csv')"
   ]
  },
  {
   "cell_type": "code",
   "execution_count": 3,
   "metadata": {},
   "outputs": [],
   "source": [
    "df.drop('Timestamp', axis = 1, inplace = True)"
   ]
  },
  {
   "cell_type": "markdown",
   "metadata": {},
   "source": [
    "Making the columns readable now"
   ]
  },
  {
   "cell_type": "code",
   "execution_count": 4,
   "metadata": {},
   "outputs": [],
   "source": [
    "df.rename(columns = {'Did you get into the University of Michigan?':'Accepted'},inplace = True)\n",
    "df.rename(columns = {'What was the nature of your application to the University of Michigan?':'EA/RA','If you took the SAT, what was your score out of 1600 (Ex. 1500)?':'SAT','If you took the ACT, what was your score out of 36 (Ex. 34)?':'ACT'},inplace = True)\n",
    "df.rename(columns = {'Where would you rank yourself academically in class?':'Rank','What College within the University of Michigan did you apply to?':'College'},inplace = True)\n",
    "df.rename(columns = {'How many SAT Subject Test Scores were submitted with a score of >= 700?':'SAT II'},inplace = True)\n",
    "df.rename(columns = {'How many AP Test Scores were submitted with a score of >= 3?':'AP', 'How many IB Test Scores were submitted with a score of >= 5?':'IB', 'What gender identity do you most identify with?':'Gender','What was your residency status when you applied to the University of Michigan?':'Residency Status', 'Were you considered a legacy (i.e. your parents or siblings went to the University of Michigan)?':'Legacy', 'Were you considered a first-generation college student (i.e. you were the first in your family to go to college)?':'First-Gen', 'Did you ask for Financial Aid?':'Financial Aid'}, inplace = True)\n",
    "df.rename(columns = {'Were you a part of Student government at your school?':'Student Gov','Did you have any notable leadership positions in high school (i.e. President/Vice-President of a club)?':'Leadership', 'Please indicate your ethnicity?':'Ethnicity','Were you a member of a Sports team in high school (Dedicated 100+ hours)?':'Sports','Did you volunteer in high school (Dedicated 100+ hours)?':'Volunteer','Did you participate in the performing arts (dance, drama and other forms of artistic expressions) while in high school (100+ hours)?':'Performing Arts',\"If you'd like to be considered for the Amazon gift card raffle, please enter an email id that we can send the gift card to (Optional)\":'Email'}, inplace = True)"
   ]
  },
  {
   "cell_type": "markdown",
   "metadata": {},
   "source": [
    "Removing Invalid Entries: 1) No SAT and ACT 2) insnanely low SAT/ACT scores (1000/11) 3) SAT Score not ending with 0"
   ]
  },
  {
   "cell_type": "code",
   "execution_count": 5,
   "metadata": {},
   "outputs": [],
   "source": [
    "ScamEntry = (df['SAT'].isnull() & df['ACT'].isnull())"
   ]
  },
  {
   "cell_type": "code",
   "execution_count": 6,
   "metadata": {},
   "outputs": [],
   "source": [
    "ScamIndices = df[ScamEntry].index"
   ]
  },
  {
   "cell_type": "code",
   "execution_count": 7,
   "metadata": {},
   "outputs": [],
   "source": [
    "df.drop(ScamIndices, inplace = True)"
   ]
  },
  {
   "cell_type": "code",
   "execution_count": 8,
   "metadata": {},
   "outputs": [],
   "source": [
    "df.reset_index(drop=True, inplace = True)"
   ]
  },
  {
   "cell_type": "markdown",
   "metadata": {},
   "source": [
    "TODO: Need to check manually"
   ]
  },
  {
   "cell_type": "code",
   "execution_count": 9,
   "metadata": {},
   "outputs": [
    {
     "data": {
      "text/html": [
       "<div>\n",
       "<style scoped>\n",
       "    .dataframe tbody tr th:only-of-type {\n",
       "        vertical-align: middle;\n",
       "    }\n",
       "\n",
       "    .dataframe tbody tr th {\n",
       "        vertical-align: top;\n",
       "    }\n",
       "\n",
       "    .dataframe thead th {\n",
       "        text-align: right;\n",
       "    }\n",
       "</style>\n",
       "<table border=\"1\" class=\"dataframe\">\n",
       "  <thead>\n",
       "    <tr style=\"text-align: right;\">\n",
       "      <th></th>\n",
       "      <th>Accepted</th>\n",
       "      <th>College</th>\n",
       "      <th>EA/RA</th>\n",
       "      <th>SAT</th>\n",
       "      <th>ACT</th>\n",
       "      <th>Rank</th>\n",
       "      <th>SAT II</th>\n",
       "      <th>AP</th>\n",
       "      <th>IB</th>\n",
       "      <th>Gender</th>\n",
       "      <th>...</th>\n",
       "      <th>Residency Status</th>\n",
       "      <th>Legacy</th>\n",
       "      <th>First-Gen</th>\n",
       "      <th>Financial Aid</th>\n",
       "      <th>Student Gov</th>\n",
       "      <th>Leadership</th>\n",
       "      <th>Sports</th>\n",
       "      <th>Volunteer</th>\n",
       "      <th>Performing Arts</th>\n",
       "      <th>Email</th>\n",
       "    </tr>\n",
       "  </thead>\n",
       "  <tbody>\n",
       "    <tr>\n",
       "      <th>151</th>\n",
       "      <td>No</td>\n",
       "      <td>College of Literature, Science, and the Arts (...</td>\n",
       "      <td>Early Action / EA</td>\n",
       "      <td>1150.0</td>\n",
       "      <td>0.0</td>\n",
       "      <td>Top 50%</td>\n",
       "      <td>0</td>\n",
       "      <td>0</td>\n",
       "      <td>0</td>\n",
       "      <td>Male</td>\n",
       "      <td>...</td>\n",
       "      <td>In-State</td>\n",
       "      <td>No</td>\n",
       "      <td>Yes</td>\n",
       "      <td>Yes</td>\n",
       "      <td>No</td>\n",
       "      <td>No</td>\n",
       "      <td>No</td>\n",
       "      <td>Yes</td>\n",
       "      <td>No</td>\n",
       "      <td>mrgraffittiart@gmail.com</td>\n",
       "    </tr>\n",
       "    <tr>\n",
       "      <th>641</th>\n",
       "      <td>Yes</td>\n",
       "      <td>Other</td>\n",
       "      <td>Regular Decision / RD</td>\n",
       "      <td>5.0</td>\n",
       "      <td>5.0</td>\n",
       "      <td>Top 50%</td>\n",
       "      <td>1</td>\n",
       "      <td>0</td>\n",
       "      <td>0</td>\n",
       "      <td>Male</td>\n",
       "      <td>...</td>\n",
       "      <td>International</td>\n",
       "      <td>No</td>\n",
       "      <td>Yes</td>\n",
       "      <td>Yes</td>\n",
       "      <td>Yes</td>\n",
       "      <td>No</td>\n",
       "      <td>Yes</td>\n",
       "      <td>No</td>\n",
       "      <td>Yes</td>\n",
       "      <td>voluntary bias much?</td>\n",
       "    </tr>\n",
       "  </tbody>\n",
       "</table>\n",
       "<p>2 rows × 21 columns</p>\n",
       "</div>"
      ],
      "text/plain": [
       "    Accepted                                            College  \\\n",
       "151       No  College of Literature, Science, and the Arts (...   \n",
       "641      Yes                                              Other   \n",
       "\n",
       "                     EA/RA     SAT  ACT     Rank SAT II AP IB Gender  ...  \\\n",
       "151      Early Action / EA  1150.0  0.0  Top 50%      0  0  0   Male  ...   \n",
       "641  Regular Decision / RD     5.0  5.0  Top 50%      1  0  0   Male  ...   \n",
       "\n",
       "    Residency Status Legacy First-Gen Financial Aid Student Gov Leadership  \\\n",
       "151         In-State     No       Yes           Yes          No         No   \n",
       "641    International     No       Yes           Yes         Yes         No   \n",
       "\n",
       "    Sports Volunteer Performing Arts                     Email  \n",
       "151     No       Yes              No  mrgraffittiart@gmail.com  \n",
       "641    Yes        No             Yes      voluntary bias much?  \n",
       "\n",
       "[2 rows x 21 columns]"
      ]
     },
     "execution_count": 9,
     "metadata": {},
     "output_type": "execute_result"
    }
   ],
   "source": [
    "df[(df['ACT'] <= 11)]"
   ]
  },
  {
   "cell_type": "code",
   "execution_count": 10,
   "metadata": {},
   "outputs": [],
   "source": [
    "df.drop(df.index[641],inplace = True)"
   ]
  },
  {
   "cell_type": "code",
   "execution_count": 11,
   "metadata": {},
   "outputs": [],
   "source": [
    "df.reset_index(drop=True, inplace = True)"
   ]
  },
  {
   "cell_type": "code",
   "execution_count": 12,
   "metadata": {},
   "outputs": [
    {
     "data": {
      "text/html": [
       "<div>\n",
       "<style scoped>\n",
       "    .dataframe tbody tr th:only-of-type {\n",
       "        vertical-align: middle;\n",
       "    }\n",
       "\n",
       "    .dataframe tbody tr th {\n",
       "        vertical-align: top;\n",
       "    }\n",
       "\n",
       "    .dataframe thead th {\n",
       "        text-align: right;\n",
       "    }\n",
       "</style>\n",
       "<table border=\"1\" class=\"dataframe\">\n",
       "  <thead>\n",
       "    <tr style=\"text-align: right;\">\n",
       "      <th></th>\n",
       "      <th>Accepted</th>\n",
       "      <th>College</th>\n",
       "      <th>EA/RA</th>\n",
       "      <th>SAT</th>\n",
       "      <th>ACT</th>\n",
       "      <th>Rank</th>\n",
       "      <th>SAT II</th>\n",
       "      <th>AP</th>\n",
       "      <th>IB</th>\n",
       "      <th>Gender</th>\n",
       "      <th>...</th>\n",
       "      <th>Residency Status</th>\n",
       "      <th>Legacy</th>\n",
       "      <th>First-Gen</th>\n",
       "      <th>Financial Aid</th>\n",
       "      <th>Student Gov</th>\n",
       "      <th>Leadership</th>\n",
       "      <th>Sports</th>\n",
       "      <th>Volunteer</th>\n",
       "      <th>Performing Arts</th>\n",
       "      <th>Email</th>\n",
       "    </tr>\n",
       "  </thead>\n",
       "  <tbody>\n",
       "    <tr>\n",
       "      <th>636</th>\n",
       "      <td>Yes</td>\n",
       "      <td>Ross School of Business</td>\n",
       "      <td>Early Action / EA</td>\n",
       "      <td>800.0</td>\n",
       "      <td>17.0</td>\n",
       "      <td>Top 10%</td>\n",
       "      <td>0</td>\n",
       "      <td>0</td>\n",
       "      <td>0</td>\n",
       "      <td>Female</td>\n",
       "      <td>...</td>\n",
       "      <td>In-State</td>\n",
       "      <td>Yes</td>\n",
       "      <td>No</td>\n",
       "      <td>Yes</td>\n",
       "      <td>Yes</td>\n",
       "      <td>Yes</td>\n",
       "      <td>Yes</td>\n",
       "      <td>Yes</td>\n",
       "      <td>Yes</td>\n",
       "      <td>Amills1600@yahoo.com</td>\n",
       "    </tr>\n",
       "  </tbody>\n",
       "</table>\n",
       "<p>1 rows × 21 columns</p>\n",
       "</div>"
      ],
      "text/plain": [
       "    Accepted                  College              EA/RA    SAT   ACT  \\\n",
       "636      Yes  Ross School of Business  Early Action / EA  800.0  17.0   \n",
       "\n",
       "        Rank SAT II AP IB  Gender  ... Residency Status Legacy First-Gen  \\\n",
       "636  Top 10%      0  0  0  Female  ...         In-State    Yes        No   \n",
       "\n",
       "    Financial Aid Student Gov Leadership Sports Volunteer Performing Arts  \\\n",
       "636           Yes         Yes        Yes    Yes       Yes             Yes   \n",
       "\n",
       "                    Email  \n",
       "636  Amills1600@yahoo.com  \n",
       "\n",
       "[1 rows x 21 columns]"
      ]
     },
     "execution_count": 12,
     "metadata": {},
     "output_type": "execute_result"
    }
   ],
   "source": [
    "df[(df['SAT'] < 1000)]"
   ]
  },
  {
   "cell_type": "code",
   "execution_count": 13,
   "metadata": {},
   "outputs": [],
   "source": [
    "df.drop(df.index[636],inplace = True)"
   ]
  },
  {
   "cell_type": "code",
   "execution_count": 14,
   "metadata": {},
   "outputs": [],
   "source": [
    "df.reset_index(drop=True, inplace = True)"
   ]
  },
  {
   "cell_type": "code",
   "execution_count": 15,
   "metadata": {},
   "outputs": [],
   "source": [
    "ScoreTemp = df['SAT'].dropna()"
   ]
  },
  {
   "cell_type": "code",
   "execution_count": 16,
   "metadata": {},
   "outputs": [],
   "source": [
    "ScoreTempIndex = ScoreTemp[ScoreTemp%10 != 0].index"
   ]
  },
  {
   "cell_type": "code",
   "execution_count": 17,
   "metadata": {},
   "outputs": [],
   "source": [
    "df.drop(ScoreTempIndex, inplace = True)"
   ]
  },
  {
   "cell_type": "code",
   "execution_count": 18,
   "metadata": {},
   "outputs": [],
   "source": [
    "df.reset_index(drop=True, inplace = True)"
   ]
  },
  {
   "cell_type": "markdown",
   "metadata": {},
   "source": [
    "Seperate Email Id and turn it into lottery (and filter out lottery)"
   ]
  },
  {
   "cell_type": "code",
   "execution_count": 19,
   "metadata": {},
   "outputs": [],
   "source": [
    "Lottery = df['Email']"
   ]
  },
  {
   "cell_type": "code",
   "execution_count": 20,
   "metadata": {},
   "outputs": [],
   "source": [
    "Lottery.dropna(inplace = True)"
   ]
  },
  {
   "cell_type": "code",
   "execution_count": 21,
   "metadata": {},
   "outputs": [],
   "source": [
    "Lottery.reset_index(drop=True, inplace = True)"
   ]
  },
  {
   "cell_type": "code",
   "execution_count": 22,
   "metadata": {},
   "outputs": [],
   "source": [
    "df.drop('Email',axis = 1,inplace = True)"
   ]
  },
  {
   "cell_type": "markdown",
   "metadata": {},
   "source": [
    "Convert SAT and ACT score to one column"
   ]
  },
  {
   "cell_type": "code",
   "execution_count": 23,
   "metadata": {},
   "outputs": [],
   "source": [
    "def ConvertScore(SatScore):\n",
    "    if (np.isnan(SatScore)):\n",
    "        return 0\n",
    "    elif (SatScore >= 1570 and SatScore <= 1600):\n",
    "        return 36\n",
    "    elif (SatScore >= 1530 and SatScore <= 1560):\n",
    "        return 35\n",
    "    elif (SatScore >= 1490 and SatScore <= 1520):\n",
    "        return 34\n",
    "    elif (SatScore >= 1450 and SatScore <= 1480):\n",
    "        return 33\n",
    "    elif (SatScore >= 1420 and SatScore <= 1440):\n",
    "        return 32\n",
    "    elif (SatScore >= 1390 and SatScore <= 1410):\n",
    "        return 31\n",
    "    elif (SatScore >= 1360 and SatScore <= 1380):\n",
    "        return 30\n",
    "    elif (SatScore >= 1330 and SatScore <= 1350):\n",
    "        return 29\n",
    "    elif (SatScore >= 1300 and SatScore <= 1320):\n",
    "        return 28\n",
    "    elif (SatScore >= 1260 and SatScore <= 1290):\n",
    "        return 27\n",
    "    elif (SatScore >= 1230 and SatScore <= 1250):\n",
    "        return 26\n",
    "    elif (SatScore >= 1200 and SatScore <= 1220):\n",
    "        return 25\n",
    "    elif (SatScore >= 1160 and SatScore <= 1190):\n",
    "        return 24\n",
    "    elif (SatScore >= 1130 and SatScore <= 1150):\n",
    "        return 23\n",
    "    elif (SatScore >= 1100 and SatScore <= 1120):\n",
    "        return 22\n",
    "    elif (SatScore >= 1060 and SatScore <= 1090):\n",
    "        return 21\n",
    "    elif (SatScore >= 1030 and SatScore <= 1050):\n",
    "        return 20\n",
    "    elif (SatScore >= 990 and SatScore <= 1020):\n",
    "        return 19\n",
    "    elif (SatScore >= 960 and SatScore <= 980):\n",
    "        return 18\n",
    "    elif (SatScore >= 920 and SatScore <= 950):\n",
    "        return 17\n",
    "    elif (SatScore >= 880 and SatScore <= 910):\n",
    "        return 16\n",
    "    elif (SatScore >= 830 and SatScore <= 870):\n",
    "        return 15\n",
    "    elif (SatScore >= 780 and SatScore <= 820):\n",
    "        return 14\n",
    "    elif (SatScore >= 730 and SatScore <= 770):\n",
    "        return 13\n",
    "    elif (SatScore >= 690 and SatScore <= 720):\n",
    "        return 12\n",
    "    elif (SatScore >= 650 and SatScore <= 680):\n",
    "        return 11\n",
    "    elif (SatScore >= 620 and SatScore <= 640):\n",
    "        return 10\n",
    "    elif (SatScore >= 590 and SatScore <= 610):\n",
    "        return 9\n",
    "    else:\n",
    "        return 0\n",
    "    \n",
    "    "
   ]
  },
  {
   "cell_type": "code",
   "execution_count": 24,
   "metadata": {},
   "outputs": [],
   "source": [
    "df['ConvertedAct'] = df.SAT.apply(ConvertScore)"
   ]
  },
  {
   "cell_type": "code",
   "execution_count": 25,
   "metadata": {},
   "outputs": [],
   "source": [
    "def ActFix(Score):\n",
    "    if (np.isnan(Score)):\n",
    "        return 0\n",
    "    else:\n",
    "        return Score"
   ]
  },
  {
   "cell_type": "code",
   "execution_count": 26,
   "metadata": {},
   "outputs": [],
   "source": [
    "df['ACT'] = df.ACT.apply(ActFix)"
   ]
  },
  {
   "cell_type": "code",
   "execution_count": 27,
   "metadata": {},
   "outputs": [],
   "source": [
    "def ChooseScore(row):\n",
    "    if (row.ACT >= row.ConvertedAct):\n",
    "        return row.ACT\n",
    "    else:\n",
    "        return row.ConvertedAct"
   ]
  },
  {
   "cell_type": "code",
   "execution_count": 28,
   "metadata": {},
   "outputs": [],
   "source": [
    "df['Standardized Score'] = df.apply(ChooseScore, axis = 1)"
   ]
  },
  {
   "cell_type": "code",
   "execution_count": 29,
   "metadata": {},
   "outputs": [],
   "source": [
    "df.drop(['SAT','ACT','ConvertedAct'], axis = 1, inplace = True)"
   ]
  },
  {
   "cell_type": "code",
   "execution_count": 30,
   "metadata": {},
   "outputs": [
    {
     "data": {
      "text/html": [
       "<div>\n",
       "<style scoped>\n",
       "    .dataframe tbody tr th:only-of-type {\n",
       "        vertical-align: middle;\n",
       "    }\n",
       "\n",
       "    .dataframe tbody tr th {\n",
       "        vertical-align: top;\n",
       "    }\n",
       "\n",
       "    .dataframe thead th {\n",
       "        text-align: right;\n",
       "    }\n",
       "</style>\n",
       "<table border=\"1\" class=\"dataframe\">\n",
       "  <thead>\n",
       "    <tr style=\"text-align: right;\">\n",
       "      <th></th>\n",
       "      <th>Accepted</th>\n",
       "      <th>College</th>\n",
       "      <th>EA/RA</th>\n",
       "      <th>Rank</th>\n",
       "      <th>SAT II</th>\n",
       "      <th>AP</th>\n",
       "      <th>IB</th>\n",
       "      <th>Gender</th>\n",
       "      <th>Ethnicity</th>\n",
       "      <th>Residency Status</th>\n",
       "      <th>Legacy</th>\n",
       "      <th>First-Gen</th>\n",
       "      <th>Financial Aid</th>\n",
       "      <th>Student Gov</th>\n",
       "      <th>Leadership</th>\n",
       "      <th>Sports</th>\n",
       "      <th>Volunteer</th>\n",
       "      <th>Performing Arts</th>\n",
       "      <th>Standardized Score</th>\n",
       "    </tr>\n",
       "  </thead>\n",
       "  <tbody>\n",
       "    <tr>\n",
       "      <th>0</th>\n",
       "      <td>Yes</td>\n",
       "      <td>College of Engineering (CoE)</td>\n",
       "      <td>Early Action / EA</td>\n",
       "      <td>Top 50%</td>\n",
       "      <td>2 and above</td>\n",
       "      <td>1-3</td>\n",
       "      <td>0</td>\n",
       "      <td>Male</td>\n",
       "      <td>South Asian</td>\n",
       "      <td>International</td>\n",
       "      <td>No</td>\n",
       "      <td>No</td>\n",
       "      <td>No</td>\n",
       "      <td>Yes</td>\n",
       "      <td>Yes</td>\n",
       "      <td>No</td>\n",
       "      <td>Yes</td>\n",
       "      <td>No</td>\n",
       "      <td>35.0</td>\n",
       "    </tr>\n",
       "    <tr>\n",
       "      <th>1</th>\n",
       "      <td>Yes</td>\n",
       "      <td>College of Engineering (CoE)</td>\n",
       "      <td>Early Action / EA</td>\n",
       "      <td>Top 5%</td>\n",
       "      <td>1</td>\n",
       "      <td>0</td>\n",
       "      <td>0</td>\n",
       "      <td>Female</td>\n",
       "      <td>South Asian</td>\n",
       "      <td>International</td>\n",
       "      <td>No</td>\n",
       "      <td>No</td>\n",
       "      <td>No</td>\n",
       "      <td>Yes</td>\n",
       "      <td>Yes</td>\n",
       "      <td>Yes</td>\n",
       "      <td>No</td>\n",
       "      <td>No</td>\n",
       "      <td>34.0</td>\n",
       "    </tr>\n",
       "    <tr>\n",
       "      <th>2</th>\n",
       "      <td>Yes</td>\n",
       "      <td>College of Engineering (CoE)</td>\n",
       "      <td>Early Action / EA</td>\n",
       "      <td>Top 10%</td>\n",
       "      <td>2 and above</td>\n",
       "      <td>1-3</td>\n",
       "      <td>0</td>\n",
       "      <td>Female</td>\n",
       "      <td>South Asian</td>\n",
       "      <td>Out-of-State</td>\n",
       "      <td>No</td>\n",
       "      <td>No</td>\n",
       "      <td>No</td>\n",
       "      <td>Yes</td>\n",
       "      <td>Yes</td>\n",
       "      <td>No</td>\n",
       "      <td>Yes</td>\n",
       "      <td>Yes</td>\n",
       "      <td>34.0</td>\n",
       "    </tr>\n",
       "    <tr>\n",
       "      <th>3</th>\n",
       "      <td>Yes</td>\n",
       "      <td>College of Engineering (CoE)</td>\n",
       "      <td>Early Action / EA</td>\n",
       "      <td>Top 20%</td>\n",
       "      <td>2 and above</td>\n",
       "      <td>10 and above</td>\n",
       "      <td>0</td>\n",
       "      <td>Female</td>\n",
       "      <td>South Asian</td>\n",
       "      <td>Out-of-State</td>\n",
       "      <td>No</td>\n",
       "      <td>No</td>\n",
       "      <td>Yes</td>\n",
       "      <td>Yes</td>\n",
       "      <td>Yes</td>\n",
       "      <td>No</td>\n",
       "      <td>Yes</td>\n",
       "      <td>Yes</td>\n",
       "      <td>35.0</td>\n",
       "    </tr>\n",
       "    <tr>\n",
       "      <th>4</th>\n",
       "      <td>Yes</td>\n",
       "      <td>College of Literature, Science, and the Arts (...</td>\n",
       "      <td>Early Action / EA</td>\n",
       "      <td>Top 10%</td>\n",
       "      <td>1</td>\n",
       "      <td>10 and above</td>\n",
       "      <td>0</td>\n",
       "      <td>Male</td>\n",
       "      <td>South Asian</td>\n",
       "      <td>Out-of-State</td>\n",
       "      <td>No</td>\n",
       "      <td>No</td>\n",
       "      <td>Yes</td>\n",
       "      <td>No</td>\n",
       "      <td>Yes</td>\n",
       "      <td>No</td>\n",
       "      <td>Yes</td>\n",
       "      <td>Yes</td>\n",
       "      <td>35.0</td>\n",
       "    </tr>\n",
       "  </tbody>\n",
       "</table>\n",
       "</div>"
      ],
      "text/plain": [
       "  Accepted                                            College  \\\n",
       "0      Yes                       College of Engineering (CoE)   \n",
       "1      Yes                       College of Engineering (CoE)   \n",
       "2      Yes                       College of Engineering (CoE)   \n",
       "3      Yes                       College of Engineering (CoE)   \n",
       "4      Yes  College of Literature, Science, and the Arts (...   \n",
       "\n",
       "               EA/RA     Rank       SAT II            AP IB  Gender  \\\n",
       "0  Early Action / EA  Top 50%  2 and above           1-3  0    Male   \n",
       "1  Early Action / EA   Top 5%            1             0  0  Female   \n",
       "2  Early Action / EA  Top 10%  2 and above           1-3  0  Female   \n",
       "3  Early Action / EA  Top 20%  2 and above  10 and above  0  Female   \n",
       "4  Early Action / EA  Top 10%            1  10 and above  0    Male   \n",
       "\n",
       "     Ethnicity Residency Status Legacy First-Gen Financial Aid Student Gov  \\\n",
       "0  South Asian    International     No        No            No         Yes   \n",
       "1  South Asian    International     No        No            No         Yes   \n",
       "2  South Asian     Out-of-State     No        No            No         Yes   \n",
       "3  South Asian     Out-of-State     No        No           Yes         Yes   \n",
       "4  South Asian     Out-of-State     No        No           Yes          No   \n",
       "\n",
       "  Leadership Sports Volunteer Performing Arts  Standardized Score  \n",
       "0        Yes     No       Yes              No                35.0  \n",
       "1        Yes    Yes        No              No                34.0  \n",
       "2        Yes     No       Yes             Yes                34.0  \n",
       "3        Yes     No       Yes             Yes                35.0  \n",
       "4        Yes     No       Yes             Yes                35.0  "
      ]
     },
     "execution_count": 30,
     "metadata": {},
     "output_type": "execute_result"
    }
   ],
   "source": [
    "df.head()"
   ]
  },
  {
   "cell_type": "markdown",
   "metadata": {},
   "source": [
    "Data Visualization"
   ]
  },
  {
   "cell_type": "code",
   "execution_count": 31,
   "metadata": {},
   "outputs": [
    {
     "data": {
      "text/plain": [
       "<matplotlib.axes._subplots.AxesSubplot at 0x11cec4610>"
      ]
     },
     "execution_count": 31,
     "metadata": {},
     "output_type": "execute_result"
    },
    {
     "data": {
      "image/png": "[encoded data removed]",
      "text/plain": [
       "<Figure size 432x288 with 1 Axes>"
      ]
     },
     "metadata": {
      "needs_background": "light"
     },
     "output_type": "display_data"
    }
   ],
   "source": [
    "sns.heatmap(df.isnull(), yticklabels = False, cbar = False, cmap = 'viridis')"
   ]
  },
  {
   "cell_type": "code",
   "execution_count": 32,
   "metadata": {},
   "outputs": [
    {
     "data": {
      "text/plain": [
       "<matplotlib.axes._subplots.AxesSubplot at 0x1a21517650>"
      ]
     },
     "execution_count": 32,
     "metadata": {},
     "output_type": "execute_result"
    },
    {
     "data": {
      "image/png": "[encoded data removed]",
      "text/plain": [
       "<Figure size 432x288 with 1 Axes>"
      ]
     },
     "metadata": {
      "needs_background": "light"
     },
     "output_type": "display_data"
    }
   ],
   "source": [
    "sns.countplot(x = 'Accepted', hue = 'Gender', data = df)"
   ]
  },
  {
   "cell_type": "code",
   "execution_count": 33,
   "metadata": {},
   "outputs": [
    {
     "data": {
      "text/plain": [
       "<matplotlib.axes._subplots.AxesSubplot at 0x1a21631690>"
      ]
     },
     "execution_count": 33,
     "metadata": {},
     "output_type": "execute_result"
    },
    {
     "data": {
      "image/png": "[encoded data removed]",
      "text/plain": [
       "<Figure size 432x288 with 1 Axes>"
      ]
     },
     "metadata": {
      "needs_background": "light"
     },
     "output_type": "display_data"
    }
   ],
   "source": [
    "sns.countplot(x = 'Gender',data = df)"
   ]
  },
  {
   "cell_type": "code",
   "execution_count": 34,
   "metadata": {},
   "outputs": [
    {
     "data": {
      "text/plain": [
       "<matplotlib.axes._subplots.AxesSubplot at 0x1a2170fa50>"
      ]
     },
     "execution_count": 34,
     "metadata": {},
     "output_type": "execute_result"
    },
    {
     "data": {
      "image/png": "[encoded data removed]",
      "text/plain": [
       "<Figure size 432x288 with 1 Axes>"
      ]
     },
     "metadata": {
      "needs_background": "light"
     },
     "output_type": "display_data"
    }
   ],
   "source": [
    "sns.distplot(df['Standardized Score'])"
   ]
  },
  {
   "cell_type": "code",
   "execution_count": 35,
   "metadata": {},
   "outputs": [
    {
     "data": {
      "text/plain": [
       "<matplotlib.axes._subplots.AxesSubplot at 0x1a21821990>"
      ]
     },
     "execution_count": 35,
     "metadata": {},
     "output_type": "execute_result"
    },
    {
     "data": {
      "image/png": "[encoded data removed]",
      "text/plain": [
       "<Figure size 432x288 with 1 Axes>"
      ]
     },
     "metadata": {
      "needs_background": "light"
     },
     "output_type": "display_data"
    }
   ],
   "source": [
    "sns.countplot(x = 'Ethnicity', data = df)"
   ]
  },
  {
   "cell_type": "markdown",
   "metadata": {},
   "source": [
    "Converting Categorical Values"
   ]
  },
  {
   "cell_type": "code",
   "execution_count": 36,
   "metadata": {},
   "outputs": [],
   "source": [
    "#Accepted = pd.get_dummies(df['Accepted'],drop_first = True).head()\n",
    "#EARA = pd.get_dummies(df['EA/RA'],drop_first = True).head()\n",
    "#College = pd.get_dummies(df['College'],drop_first = True).head()\n",
    "#Rank = pd.get_dummies(df['Rank'],drop_first = True).head()\n",
    "#SATII = pd.get_dummies(df['SAT II'],drop_first = True).head()\n",
    "\n",
    "\n"
   ]
  },
  {
   "cell_type": "code",
   "execution_count": 37,
   "metadata": {},
   "outputs": [],
   "source": [
    "#df = pd.concat([Accepted, EARA, df],axis = 1)"
   ]
  },
  {
   "cell_type": "code",
   "execution_count": 38,
   "metadata": {},
   "outputs": [
    {
     "data": {
      "text/html": [
       "<div>\n",
       "<style scoped>\n",
       "    .dataframe tbody tr th:only-of-type {\n",
       "        vertical-align: middle;\n",
       "    }\n",
       "\n",
       "    .dataframe tbody tr th {\n",
       "        vertical-align: top;\n",
       "    }\n",
       "\n",
       "    .dataframe thead th {\n",
       "        text-align: right;\n",
       "    }\n",
       "</style>\n",
       "<table border=\"1\" class=\"dataframe\">\n",
       "  <thead>\n",
       "    <tr style=\"text-align: right;\">\n",
       "      <th></th>\n",
       "      <th>Accepted</th>\n",
       "      <th>College</th>\n",
       "      <th>EA/RA</th>\n",
       "      <th>Rank</th>\n",
       "      <th>SAT II</th>\n",
       "      <th>AP</th>\n",
       "      <th>IB</th>\n",
       "      <th>Gender</th>\n",
       "      <th>Ethnicity</th>\n",
       "      <th>Residency Status</th>\n",
       "      <th>Legacy</th>\n",
       "      <th>First-Gen</th>\n",
       "      <th>Financial Aid</th>\n",
       "      <th>Student Gov</th>\n",
       "      <th>Leadership</th>\n",
       "      <th>Sports</th>\n",
       "      <th>Volunteer</th>\n",
       "      <th>Performing Arts</th>\n",
       "      <th>Standardized Score</th>\n",
       "    </tr>\n",
       "  </thead>\n",
       "  <tbody>\n",
       "    <tr>\n",
       "      <th>0</th>\n",
       "      <td>Yes</td>\n",
       "      <td>College of Engineering (CoE)</td>\n",
       "      <td>Early Action / EA</td>\n",
       "      <td>Top 50%</td>\n",
       "      <td>2 and above</td>\n",
       "      <td>1-3</td>\n",
       "      <td>0</td>\n",
       "      <td>Male</td>\n",
       "      <td>South Asian</td>\n",
       "      <td>International</td>\n",
       "      <td>No</td>\n",
       "      <td>No</td>\n",
       "      <td>No</td>\n",
       "      <td>Yes</td>\n",
       "      <td>Yes</td>\n",
       "      <td>No</td>\n",
       "      <td>Yes</td>\n",
       "      <td>No</td>\n",
       "      <td>35.0</td>\n",
       "    </tr>\n",
       "    <tr>\n",
       "      <th>1</th>\n",
       "      <td>Yes</td>\n",
       "      <td>College of Engineering (CoE)</td>\n",
       "      <td>Early Action / EA</td>\n",
       "      <td>Top 5%</td>\n",
       "      <td>1</td>\n",
       "      <td>0</td>\n",
       "      <td>0</td>\n",
       "      <td>Female</td>\n",
       "      <td>South Asian</td>\n",
       "      <td>International</td>\n",
       "      <td>No</td>\n",
       "      <td>No</td>\n",
       "      <td>No</td>\n",
       "      <td>Yes</td>\n",
       "      <td>Yes</td>\n",
       "      <td>Yes</td>\n",
       "      <td>No</td>\n",
       "      <td>No</td>\n",
       "      <td>34.0</td>\n",
       "    </tr>\n",
       "    <tr>\n",
       "      <th>2</th>\n",
       "      <td>Yes</td>\n",
       "      <td>College of Engineering (CoE)</td>\n",
       "      <td>Early Action / EA</td>\n",
       "      <td>Top 10%</td>\n",
       "      <td>2 and above</td>\n",
       "      <td>1-3</td>\n",
       "      <td>0</td>\n",
       "      <td>Female</td>\n",
       "      <td>South Asian</td>\n",
       "      <td>Out-of-State</td>\n",
       "      <td>No</td>\n",
       "      <td>No</td>\n",
       "      <td>No</td>\n",
       "      <td>Yes</td>\n",
       "      <td>Yes</td>\n",
       "      <td>No</td>\n",
       "      <td>Yes</td>\n",
       "      <td>Yes</td>\n",
       "      <td>34.0</td>\n",
       "    </tr>\n",
       "    <tr>\n",
       "      <th>3</th>\n",
       "      <td>Yes</td>\n",
       "      <td>College of Engineering (CoE)</td>\n",
       "      <td>Early Action / EA</td>\n",
       "      <td>Top 20%</td>\n",
       "      <td>2 and above</td>\n",
       "      <td>10 and above</td>\n",
       "      <td>0</td>\n",
       "      <td>Female</td>\n",
       "      <td>South Asian</td>\n",
       "      <td>Out-of-State</td>\n",
       "      <td>No</td>\n",
       "      <td>No</td>\n",
       "      <td>Yes</td>\n",
       "      <td>Yes</td>\n",
       "      <td>Yes</td>\n",
       "      <td>No</td>\n",
       "      <td>Yes</td>\n",
       "      <td>Yes</td>\n",
       "      <td>35.0</td>\n",
       "    </tr>\n",
       "    <tr>\n",
       "      <th>4</th>\n",
       "      <td>Yes</td>\n",
       "      <td>College of Literature, Science, and the Arts (...</td>\n",
       "      <td>Early Action / EA</td>\n",
       "      <td>Top 10%</td>\n",
       "      <td>1</td>\n",
       "      <td>10 and above</td>\n",
       "      <td>0</td>\n",
       "      <td>Male</td>\n",
       "      <td>South Asian</td>\n",
       "      <td>Out-of-State</td>\n",
       "      <td>No</td>\n",
       "      <td>No</td>\n",
       "      <td>Yes</td>\n",
       "      <td>No</td>\n",
       "      <td>Yes</td>\n",
       "      <td>No</td>\n",
       "      <td>Yes</td>\n",
       "      <td>Yes</td>\n",
       "      <td>35.0</td>\n",
       "    </tr>\n",
       "  </tbody>\n",
       "</table>\n",
       "</div>"
      ],
      "text/plain": [
       "  Accepted                                            College  \\\n",
       "0      Yes                       College of Engineering (CoE)   \n",
       "1      Yes                       College of Engineering (CoE)   \n",
       "2      Yes                       College of Engineering (CoE)   \n",
       "3      Yes                       College of Engineering (CoE)   \n",
       "4      Yes  College of Literature, Science, and the Arts (...   \n",
       "\n",
       "               EA/RA     Rank       SAT II            AP IB  Gender  \\\n",
       "0  Early Action / EA  Top 50%  2 and above           1-3  0    Male   \n",
       "1  Early Action / EA   Top 5%            1             0  0  Female   \n",
       "2  Early Action / EA  Top 10%  2 and above           1-3  0  Female   \n",
       "3  Early Action / EA  Top 20%  2 and above  10 and above  0  Female   \n",
       "4  Early Action / EA  Top 10%            1  10 and above  0    Male   \n",
       "\n",
       "     Ethnicity Residency Status Legacy First-Gen Financial Aid Student Gov  \\\n",
       "0  South Asian    International     No        No            No         Yes   \n",
       "1  South Asian    International     No        No            No         Yes   \n",
       "2  South Asian     Out-of-State     No        No            No         Yes   \n",
       "3  South Asian     Out-of-State     No        No           Yes         Yes   \n",
       "4  South Asian     Out-of-State     No        No           Yes          No   \n",
       "\n",
       "  Leadership Sports Volunteer Performing Arts  Standardized Score  \n",
       "0        Yes     No       Yes              No                35.0  \n",
       "1        Yes    Yes        No              No                34.0  \n",
       "2        Yes     No       Yes             Yes                34.0  \n",
       "3        Yes     No       Yes             Yes                35.0  \n",
       "4        Yes     No       Yes             Yes                35.0  "
      ]
     },
     "execution_count": 38,
     "metadata": {},
     "output_type": "execute_result"
    }
   ],
   "source": [
    "df.head()"
   ]
  },
  {
   "cell_type": "code",
   "execution_count": null,
   "metadata": {},
   "outputs": [],
   "source": []
  }
 ],
 "metadata": {
  "kernelspec": {
   "display_name": "Python 3",
   "language": "python",
   "name": "python3"
  },
  "language_info": {
   "codemirror_mode": {
    "name": "ipython",
    "version": 3
   },
   "file_extension": ".py",
   "mimetype": "text/x-python",
   "name": "python",
   "nbconvert_exporter": "python",
   "pygments_lexer": "ipython3",
   "version": "3.7.6"
  }
 },
 "nbformat": 4,
 "nbformat_minor": 4
}
